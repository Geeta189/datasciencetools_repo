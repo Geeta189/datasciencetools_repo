{
 "cells": [
  {
   "cell_type": "markdown",
   "id": "95456667-8401-4069-b82f-07969ff06f72",
   "metadata": {},
   "source": [
    "# Data Science Tools and Ecosystem"
   ]
  },
  {
   "cell_type": "markdown",
   "id": "66f91010-0e00-42e7-961f-da82adb9e0f4",
   "metadata": {},
   "source": [
    "### In this notebook, Data Science Tools and Ecosystem are summarized."
   ]
  },
  {
   "cell_type": "markdown",
   "id": "307c76a2-e1ce-4b09-82ac-896c3183fe1f",
   "metadata": {},
   "source": [
    "**Objective:**\n",
    "- Popular languages for data science\n",
    "- libraries used in data science\n",
    "- data science tools"
   ]
  },
  {
   "cell_type": "markdown",
   "id": "80b307ff-dbcb-4dcf-a342-89df02ad537a",
   "metadata": {
    "tags": []
   },
   "source": [
    "#### Some of the popular languages that Data Scientists use are:\n",
    "1. Python\n",
    "2. Julia\n",
    "3. R"
   ]
  },
  {
   "cell_type": "markdown",
   "id": "bf53b733-3dcb-48d4-a248-c8a1abd47c9a",
   "metadata": {},
   "source": [
    "#### Some of the commonly used libraries used by Data Scientists include:\n",
    "1. Pandas\n",
    "2. Numpy\n",
    "3. Matplotlib"
   ]
  },
  {
   "cell_type": "markdown",
   "id": "a3314d89-6700-4e53-ac7f-c75249d8d9b1",
   "metadata": {},
   "source": [
    "Data Science Tools|\n",
    "-------------------\n",
    "JupyterNotebook|\n",
    "Apache Spark|\n",
    "Google Cloud|"
   ]
  },
  {
   "cell_type": "markdown",
   "id": "5b6d44cd-a870-432f-9ce2-5209e88b8fdd",
   "metadata": {},
   "source": [
    "### Below are a few examples of evaluating arithmetic expressions in Python."
   ]
  },
  {
   "cell_type": "code",
   "execution_count": 2,
   "id": "d9a35aca-acd7-433f-b756-51c77fda1855",
   "metadata": {
    "tags": []
   },
   "outputs": [
    {
     "data": {
      "text/plain": [
       "17"
      ]
     },
     "execution_count": 2,
     "metadata": {},
     "output_type": "execute_result"
    }
   ],
   "source": [
    "# This a simple arithmetic expression to mutiply then add integers.\n",
    "(3*4)+5"
   ]
  },
  {
   "cell_type": "code",
   "execution_count": 8,
   "id": "d8dfb8ce-a8b1-4ec6-bd21-4af8236e5a9c",
   "metadata": {
    "tags": []
   },
   "outputs": [
    {
     "name": "stdout",
     "output_type": "stream",
     "text": [
      "3hours20minutes\n"
     ]
    }
   ],
   "source": [
    "# This will convert 200 minutes to hours by diving by 60.\n",
    "hours = 200//60\n",
    "minutes = 200%60\n",
    "print(str(hours)+'hours'+ str(minutes)+'minutes')"
   ]
  },
  {
   "cell_type": "markdown",
   "id": "a9e58998-8c2d-4869-839f-8c0374868b4e",
   "metadata": {
    "tags": []
   },
   "source": [
    "## Author\n",
    "Geeta krishna"
   ]
  },
  {
   "cell_type": "code",
   "execution_count": null,
   "id": "934e8d00-4124-469f-a198-184f06ede478",
   "metadata": {},
   "outputs": [],
   "source": []
  }
 ],
 "metadata": {
  "kernelspec": {
   "display_name": "Python",
   "language": "python",
   "name": "conda-env-python-py"
  },
  "language_info": {
   "codemirror_mode": {
    "name": "ipython",
    "version": 3
   },
   "file_extension": ".py",
   "mimetype": "text/x-python",
   "name": "python",
   "nbconvert_exporter": "python",
   "pygments_lexer": "ipython3",
   "version": "3.7.12"
  }
 },
 "nbformat": 4,
 "nbformat_minor": 5
}
